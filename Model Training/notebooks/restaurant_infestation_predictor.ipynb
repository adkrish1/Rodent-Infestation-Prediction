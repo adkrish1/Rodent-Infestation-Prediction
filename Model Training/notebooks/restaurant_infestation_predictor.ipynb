{
 "cells": [
  {
   "cell_type": "code",
   "execution_count": 1,
   "metadata": {},
   "outputs": [],
   "source": [
    "import mlflow.sklearn\n",
    "import mlflow"
   ]
  },
  {
   "cell_type": "code",
   "execution_count": 2,
   "metadata": {},
   "outputs": [
    {
     "data": {
      "text/plain": [
       "<Experiment: artifact_location='mlflow-artifacts:/1', creation_time=1745625833521, experiment_id='1', last_update_time=1745625833521, lifecycle_stage='active', name='restaurant_infestation_predictor_test', tags={}>"
      ]
     },
     "execution_count": 2,
     "metadata": {},
     "output_type": "execute_result"
    }
   ],
   "source": [
    "mlflow.set_experiment('restaurant_infestation_predictor_test')"
   ]
  },
  {
   "cell_type": "code",
   "execution_count": 3,
   "metadata": {
    "id": "bt5xwl7XQPzm"
   },
   "outputs": [],
   "source": [
    "import pandas as pd\n",
    "import numpy as np\n",
    "import requests"
   ]
  },
  {
   "cell_type": "code",
   "execution_count": 4,
   "metadata": {},
   "outputs": [],
   "source": [
    "import warnings\n",
    "warnings.filterwarnings(\"ignore\")"
   ]
  },
  {
   "cell_type": "code",
   "execution_count": 5,
   "metadata": {
    "colab": {
     "base_uri": "https://localhost:8080/"
    },
    "id": "tdOXomAiQaD_",
    "outputId": "f540e80e-0c9c-49d4-c733-01ff74f6e70a"
   },
   "outputs": [
    {
     "name": "stdout",
     "output_type": "stream",
     "text": [
      "Retrieved 96040 records.\n"
     ]
    }
   ],
   "source": [
    "import requests\n",
    "\n",
    "url = \"https://data.cityofnewyork.us/resource/3q43-55fe.json\"\n",
    "\n",
    "params = {\n",
    "    \"$limit\": 300000,  # Number of records\n",
    "    \"complaint_type\": \"Rodent\",\n",
    "    \"city\": \"BROOKLYN\"\n",
    "}\n",
    "\n",
    "response = requests.get(url, params=params)\n",
    "\n",
    "if response.status_code == 200:\n",
    "    data = response.json()\n",
    "\n",
    "    print(f\"Retrieved {len(data)} records.\")\n",
    "else:\n",
    "    print(f\"Failed to retrieve data: {response.status_code}\")\n"
   ]
  },
  {
   "cell_type": "code",
   "execution_count": 6,
   "metadata": {
    "id": "xJeYg9IIQbkh"
   },
   "outputs": [],
   "source": [
    "complaints_data = pd.DataFrame(data)\n",
    "complaints_data['created_date'] = pd.to_datetime(complaints_data['created_date'])\n",
    "complaints_data['zipcode'] = complaints_data['incident_zip'].astype(str)\n",
    "complaints_data['month'] = complaints_data['created_date'].dt.to_period('M')"
   ]
  },
  {
   "cell_type": "code",
   "execution_count": 7,
   "metadata": {
    "id": "ttkHZNS_Q7er"
   },
   "outputs": [],
   "source": [
    "rodent_counts = complaints_data.groupby(['zipcode', 'month']).size().reset_index(name='rodent_complaints')"
   ]
  },
  {
   "cell_type": "code",
   "execution_count": 8,
   "metadata": {
    "id": "rCxAEEVZRisz"
   },
   "outputs": [],
   "source": [
    "params = {\n",
    "    \"$limit\": 300000,  # Number of records\n",
    "    \"boro\" : \"Brooklyn\"\n",
    "}"
   ]
  },
  {
   "cell_type": "code",
   "execution_count": 9,
   "metadata": {
    "id": "Y8Z7n0z9RoXT"
   },
   "outputs": [],
   "source": [
    "url_health = \"https://data.cityofnewyork.us/resource/43nn-pn8j.json\"\n",
    "response_health = requests.get(url_health, params = params)\n",
    "health_data = pd.DataFrame(response_health.json())"
   ]
  },
  {
   "cell_type": "code",
   "execution_count": 10,
   "metadata": {
    "id": "CN2lNL1tRtZL"
   },
   "outputs": [],
   "source": [
    "health_data['score'] = pd.to_numeric(health_data['score'], errors='coerce')\n",
    "health_data['zipcode'] = health_data['zipcode'].astype(str)\n",
    "health_data['inspection_date'] = pd.to_datetime(health_data['grade_date'])\n",
    "health_data['month'] = health_data['inspection_date'].dt.to_period('M')\n",
    "health_data['key'] = health_data['dba'] + health_data['building']"
   ]
  },
  {
   "cell_type": "code",
   "execution_count": 11,
   "metadata": {
    "id": "YAP2rrZRRvM0"
   },
   "outputs": [],
   "source": [
    "violations = (\n",
    "    health_data\n",
    "    .groupby(['key', 'month', 'violation_code'])\n",
    "    .size()\n",
    "    .unstack(fill_value=0)\n",
    "    .reset_index()\n",
    ")"
   ]
  },
  {
   "cell_type": "code",
   "execution_count": 12,
   "metadata": {
    "id": "hd9jM4oQRwbt"
   },
   "outputs": [],
   "source": [
    "zips = health_data[['key', 'zipcode']].drop_duplicates()"
   ]
  },
  {
   "cell_type": "code",
   "execution_count": 13,
   "metadata": {
    "id": "rZhgebgdRzEd"
   },
   "outputs": [],
   "source": [
    "health_data_agg = health_data.groupby(['key', 'month']).agg({'score': 'mean'}).reset_index()\n",
    "health_data_agg = health_data_agg.merge(violations, on=['key', 'month'], how='left')\n",
    "health_data_agg.sort_values(by=['key', 'month'], inplace=True)"
   ]
  },
  {
   "cell_type": "code",
   "execution_count": 14,
   "metadata": {
    "id": "Omd9fuPvR3JY"
   },
   "outputs": [],
   "source": [
    "counts = health_data_agg.groupby(['key']).agg({'score': 'count'}).reset_index()"
   ]
  },
  {
   "cell_type": "code",
   "execution_count": 15,
   "metadata": {
    "id": "vhCMAlngR6AM"
   },
   "outputs": [],
   "source": [
    "keys = list(counts[counts.score >= 2].key)"
   ]
  },
  {
   "cell_type": "code",
   "execution_count": 16,
   "metadata": {
    "id": "3Snl1lFZR7hE"
   },
   "outputs": [],
   "source": [
    "health_data_agg = health_data_agg[health_data_agg.key.isin(keys)]"
   ]
  },
  {
   "cell_type": "code",
   "execution_count": 17,
   "metadata": {
    "id": "ZGIo2im2R8z4"
   },
   "outputs": [],
   "source": [
    "violation_cols = ['10F', '04M', '08A', '09A', '09C', '03A',\n",
    "       '06A', '06C', '02G', '04L', '06D', '02B', '08B', '06F', '10E', '04D',\n",
    "       '02H', '04H', '04K', '04O', '10H', '04N', '10B', '04A', '10G', '09B',\n",
    "       '05D', '10A', '06B', '06E', '10I', '02I', '08C', '28-06', '28-05',\n",
    "       '09E', '04J', '02A', '04C', '05H', '10D', '02C', '03B', '10C', '03E',\n",
    "       '03I', '03C', '10J', '02D', '04P', '05B', '05F', '04E', '05A', '05E',\n",
    "       '06G', '07A', '09D', '04F', '05C', '02F', '04B', '22G', '28-07']"
   ]
  },
  {
   "cell_type": "code",
   "execution_count": 18,
   "metadata": {
    "colab": {
     "base_uri": "https://localhost:8080/"
    },
    "id": "QMgC4hMVR-Ad",
    "outputId": "288177a4-2cd9-485f-b81d-c81e7c4d67eb"
   },
   "outputs": [],
   "source": [
    "for lag in range(1, 4):\n",
    "    health_data_agg[f'score_lag{lag}'] = (\n",
    "        health_data_agg.groupby('key')['score']\n",
    "          .shift(lag)\n",
    "    )\n",
    "\n",
    "    for vc in violation_cols:\n",
    "          health_data_agg[f'{vc}_lag{lag}'] = (\n",
    "              health_data_agg\n",
    "                .groupby('key')[vc]\n",
    "                .shift(lag)\n",
    "          )"
   ]
  },
  {
   "cell_type": "code",
   "execution_count": 19,
   "metadata": {
    "colab": {
     "base_uri": "https://localhost:8080/",
     "height": 472
    },
    "id": "gMqtTo8RR_i4",
    "outputId": "29a5a425-5fa2-495f-f485-deb6716f4e3a"
   },
   "outputs": [
    {
     "data": {
      "image/png": "[encoded data removed]",
      "text/plain": [
       "<Figure size 640x480 with 1 Axes>"
      ]
     },
     "metadata": {},
     "output_type": "display_data"
    }
   ],
   "source": [
    "# prompt: Plot histogram of health_data_agg.score\n",
    "\n",
    "import matplotlib.pyplot as plt\n",
    "\n",
    "# Assuming health_data_agg is already defined as in your provided code\n",
    "plt.hist(health_data_agg.score, bins=20) # Adjust the number of bins as needed\n",
    "plt.xlabel('Score')\n",
    "plt.ylabel('Frequency')\n",
    "plt.title('Histogram of Health Scores')\n",
    "plt.show()\n"
   ]
  },
  {
   "cell_type": "code",
   "execution_count": 20,
   "metadata": {
    "colab": {
     "base_uri": "https://localhost:8080/"
    },
    "id": "x5oSQ6UXSEjN",
    "outputId": "8959e1db-8559-483c-c452-252079368ca3"
   },
   "outputs": [],
   "source": [
    "health_data_agg['pred'] = 0\n",
    "health_data_agg.loc[(health_data_agg['04L'] > 0) | (health_data_agg['04K'] > 0), 'pred'] = 1\n",
    "health_data_agg.drop(columns = violation_cols, inplace = True)\n",
    "health_data_agg = health_data_agg[health_data_agg.score_lag1.notna()]\n",
    "health_data_agg = health_data_agg.merge(zips, on = 'key')\n",
    "health_data_agg = health_data_agg.merge(rodent_counts, on = ['zipcode', 'month'], how = 'left')\n",
    "health_data_agg.drop(columns = 'zipcode', inplace = True)\n",
    "# health_data_agg.loc[health_data_agg.score > 20, 'pred'] = 1\n",
    "\n",
    "health_data_agg.drop(columns = 'score', inplace = True)"
   ]
  },
  {
   "cell_type": "code",
   "execution_count": 21,
   "metadata": {
    "colab": {
     "base_uri": "https://localhost:8080/",
     "height": 178
    },
    "id": "qSQ6RqllSJGn",
    "outputId": "4a3f84b3-5af2-4b9e-c453-fbe0b763f218"
   },
   "outputs": [
    {
     "data": {
      "text/plain": [
       "pred\n",
       "0    6117\n",
       "1    1056\n",
       "Name: count, dtype: int64"
      ]
     },
     "execution_count": 21,
     "metadata": {},
     "output_type": "execute_result"
    }
   ],
   "source": [
    "health_data_agg.pred.value_counts()"
   ]
  },
  {
   "cell_type": "markdown",
   "metadata": {
    "id": "3CFn10EySnJC"
   },
   "source": [
    "***XGBoost***"
   ]
  },
  {
   "cell_type": "code",
   "execution_count": 22,
   "metadata": {
    "id": "vzGk0285SLCB"
   },
   "outputs": [],
   "source": [
    "import xgboost as xgb\n",
    "from sklearn.model_selection import train_test_split\n",
    "from sklearn.metrics import classification_report, roc_auc_score\n",
    "from sklearn import metrics"
   ]
  },
  {
   "cell_type": "code",
   "execution_count": 23,
   "metadata": {
    "id": "hIps84ogSNHp"
   },
   "outputs": [],
   "source": [
    "X = health_data_agg.drop(['key', 'month', 'pred'], axis=1)\n",
    "y = health_data_agg['pred']"
   ]
  },
  {
   "cell_type": "code",
   "execution_count": 24,
   "metadata": {},
   "outputs": [],
   "source": [
    "keys = health_data_agg['key']\n",
    "X = health_data_agg.drop(['key', 'month', 'pred'], axis=1)\n",
    "y = health_data_agg['pred']"
   ]
  },
  {
   "cell_type": "code",
   "execution_count": 25,
   "metadata": {
    "id": "23wUWBDSSRS1"
   },
   "outputs": [],
   "source": [
    "X_train, X_test, y_train, y_test, keys_train, keys_test = train_test_split(\n",
    "    X, y, keys,\n",
    "    test_size=0.2,\n",
    "    stratify=y,\n",
    "    random_state=42\n",
    ")"
   ]
  },
  {
   "cell_type": "code",
   "execution_count": 26,
   "metadata": {},
   "outputs": [],
   "source": [
    "df_test_features = X_test.assign(key=keys_test)\n",
    "df_test_features = df_test_features.assign(y = y_test)\n",
    "\n",
    "df_test_features.to_csv('test_feats.csv', index = False)"
   ]
  },
  {
   "cell_type": "code",
   "execution_count": 27,
   "metadata": {},
   "outputs": [],
   "source": [
    "objective = 'auc'\n",
    "n_estimators=200\n",
    "learning_rate=0.05\n",
    "max_depth=6\n",
    "subsample=0.8\n",
    "colsample_bytree=0.8\n",
    "early_stopping_rounds=10"
   ]
  },
  {
   "cell_type": "code",
   "execution_count": 30,
   "metadata": {},
   "outputs": [],
   "source": [
    "neg = (y_train == 0).sum()\n",
    "pos = (y_train == 1).sum()\n",
    "scale_pos_weight = neg / pos"
   ]
  },
  {
   "cell_type": "code",
   "execution_count": 31,
   "metadata": {
    "id": "lrMwwvEYSTTu"
   },
   "outputs": [],
   "source": [
    "model = xgb.XGBClassifier(\n",
    "    objective='binary:logistic',\n",
    "    use_label_encoder=False,\n",
    "    eval_metric=objective,\n",
    "    scale_pos_weight=scale_pos_weight,\n",
    "    n_estimators=n_estimators,\n",
    "    learning_rate=learning_rate,\n",
    "    max_depth=max_depth,\n",
    "    subsample=subsample,\n",
    "    colsample_bytree=colsample_bytree,\n",
    "    random_state=42,\n",
    "    early_stopping_rounds=early_stopping_rounds,\n",
    ")"
   ]
  },
  {
   "cell_type": "code",
   "execution_count": 32,
   "metadata": {
    "colab": {
     "base_uri": "https://localhost:8080/",
     "height": 546
    },
    "id": "9TGhTVc4SZLf",
    "outputId": "34751f5c-de8f-427b-ed1d-dac13a16e056"
   },
   "outputs": [
    {
     "name": "stdout",
     "output_type": "stream",
     "text": [
      "[0]\tvalidation_0-auc:0.66723\tvalidation_1-auc:0.61966\n",
      "[1]\tvalidation_0-auc:0.69820\tvalidation_1-auc:0.58725\n",
      "[2]\tvalidation_0-auc:0.70455\tvalidation_1-auc:0.61381\n",
      "[3]\tvalidation_0-auc:0.71316\tvalidation_1-auc:0.62096\n",
      "[4]\tvalidation_0-auc:0.71993\tvalidation_1-auc:0.61861\n",
      "[5]\tvalidation_0-auc:0.72831\tvalidation_1-auc:0.63460\n",
      "[6]\tvalidation_0-auc:0.73359\tvalidation_1-auc:0.63903\n",
      "[7]\tvalidation_0-auc:0.73179\tvalidation_1-auc:0.64506\n",
      "[8]\tvalidation_0-auc:0.73408\tvalidation_1-auc:0.64156\n",
      "[9]\tvalidation_0-auc:0.73484\tvalidation_1-auc:0.64528\n",
      "[10]\tvalidation_0-auc:0.73852\tvalidation_1-auc:0.64637\n",
      "[11]\tvalidation_0-auc:0.73959\tvalidation_1-auc:0.64550\n",
      "[12]\tvalidation_0-auc:0.74069\tvalidation_1-auc:0.64823\n",
      "[13]\tvalidation_0-auc:0.74376\tvalidation_1-auc:0.65312\n",
      "[14]\tvalidation_0-auc:0.74447\tvalidation_1-auc:0.65370\n",
      "[15]\tvalidation_0-auc:0.74604\tvalidation_1-auc:0.65369\n",
      "[16]\tvalidation_0-auc:0.74923\tvalidation_1-auc:0.65240\n",
      "[17]\tvalidation_0-auc:0.75207\tvalidation_1-auc:0.65377\n",
      "[18]\tvalidation_0-auc:0.75204\tvalidation_1-auc:0.65359\n",
      "[19]\tvalidation_0-auc:0.75460\tvalidation_1-auc:0.65233\n",
      "[20]\tvalidation_0-auc:0.75670\tvalidation_1-auc:0.65215\n",
      "[21]\tvalidation_0-auc:0.76014\tvalidation_1-auc:0.64953\n",
      "[22]\tvalidation_0-auc:0.76056\tvalidation_1-auc:0.65197\n",
      "[23]\tvalidation_0-auc:0.76168\tvalidation_1-auc:0.65055\n",
      "[24]\tvalidation_0-auc:0.76354\tvalidation_1-auc:0.65042\n",
      "[25]\tvalidation_0-auc:0.76464\tvalidation_1-auc:0.65407\n",
      "[26]\tvalidation_0-auc:0.76573\tvalidation_1-auc:0.65309\n",
      "[27]\tvalidation_0-auc:0.76750\tvalidation_1-auc:0.65460\n",
      "[28]\tvalidation_0-auc:0.76801\tvalidation_1-auc:0.65299\n",
      "[29]\tvalidation_0-auc:0.76930\tvalidation_1-auc:0.65289\n",
      "[30]\tvalidation_0-auc:0.77122\tvalidation_1-auc:0.65269\n",
      "[31]\tvalidation_0-auc:0.77212\tvalidation_1-auc:0.65248\n",
      "[32]\tvalidation_0-auc:0.77531\tvalidation_1-auc:0.65398\n",
      "[33]\tvalidation_0-auc:0.77720\tvalidation_1-auc:0.65440\n",
      "[34]\tvalidation_0-auc:0.77777\tvalidation_1-auc:0.65396\n",
      "[35]\tvalidation_0-auc:0.77880\tvalidation_1-auc:0.65537\n",
      "[36]\tvalidation_0-auc:0.78108\tvalidation_1-auc:0.65334\n",
      "[37]\tvalidation_0-auc:0.78284\tvalidation_1-auc:0.65228\n",
      "[38]\tvalidation_0-auc:0.78362\tvalidation_1-auc:0.65308\n",
      "[39]\tvalidation_0-auc:0.78450\tvalidation_1-auc:0.65449\n",
      "[40]\tvalidation_0-auc:0.78495\tvalidation_1-auc:0.65490\n",
      "[41]\tvalidation_0-auc:0.78643\tvalidation_1-auc:0.65507\n",
      "[42]\tvalidation_0-auc:0.78694\tvalidation_1-auc:0.65550\n",
      "[43]\tvalidation_0-auc:0.78792\tvalidation_1-auc:0.65481\n",
      "[44]\tvalidation_0-auc:0.78839\tvalidation_1-auc:0.65549\n",
      "[45]\tvalidation_0-auc:0.78952\tvalidation_1-auc:0.65562\n",
      "[46]\tvalidation_0-auc:0.79100\tvalidation_1-auc:0.65608\n",
      "[47]\tvalidation_0-auc:0.79183\tvalidation_1-auc:0.65590\n",
      "[48]\tvalidation_0-auc:0.79239\tvalidation_1-auc:0.65494\n",
      "[49]\tvalidation_0-auc:0.79385\tvalidation_1-auc:0.65560\n",
      "[50]\tvalidation_0-auc:0.79462\tvalidation_1-auc:0.65489\n",
      "[51]\tvalidation_0-auc:0.79511\tvalidation_1-auc:0.65600\n",
      "[52]\tvalidation_0-auc:0.79615\tvalidation_1-auc:0.65567\n",
      "[53]\tvalidation_0-auc:0.79644\tvalidation_1-auc:0.65601\n",
      "[54]\tvalidation_0-auc:0.79750\tvalidation_1-auc:0.65483\n",
      "[55]\tvalidation_0-auc:0.79819\tvalidation_1-auc:0.65515\n",
      "[56]\tvalidation_0-auc:0.79887\tvalidation_1-auc:0.65580\n"
     ]
    },
    {
     "data": {
      "text/html": [
       "<style>#sk-container-id-1 {\n",
       "  /* Definition of color scheme common for light and dark mode */\n",
       "  --sklearn-color-text: #000;\n",
       "  --sklearn-color-text-muted: #666;\n",
       "  --sklearn-color-line: gray;\n",
       "  /* Definition of color scheme for unfitted estimators */\n",
       "  --sklearn-color-unfitted-level-0: #fff5e6;\n",
       "  --sklearn-color-unfitted-level-1: #f6e4d2;\n",
       "  --sklearn-color-unfitted-level-2: #ffe0b3;\n",
       "  --sklearn-color-unfitted-level-3: chocolate;\n",
       "  /* Definition of color scheme for fitted estimators */\n",
       "  --sklearn-color-fitted-level-0: #f0f8ff;\n",
       "  --sklearn-color-fitted-level-1: #d4ebff;\n",
       "  --sklearn-color-fitted-level-2: #b3dbfd;\n",
       "  --sklearn-color-fitted-level-3: cornflowerblue;\n",
       "\n",
       "  /* Specific color for light theme */\n",
       "  --sklearn-color-text-on-default-background: var(--sg-text-color, var(--theme-code-foreground, var(--jp-content-font-color1, black)));\n",
       "  --sklearn-color-background: var(--sg-background-color, var(--theme-background, var(--jp-layout-color0, white)));\n",
       "  --sklearn-color-border-box: var(--sg-text-color, var(--theme-code-foreground, var(--jp-content-font-color1, black)));\n",
       "  --sklearn-color-icon: #696969;\n",
       "\n",
       "  @media (prefers-color-scheme: dark) {\n",
       "    /* Redefinition of color scheme for dark theme */\n",
       "    --sklearn-color-text-on-default-background: var(--sg-text-color, var(--theme-code-foreground, var(--jp-content-font-color1, white)));\n",
       "    --sklearn-color-background: var(--sg-background-color, var(--theme-background, var(--jp-layout-color0, #111)));\n",
       "    --sklearn-color-border-box: var(--sg-text-color, var(--theme-code-foreground, var(--jp-content-font-color1, white)));\n",
       "    --sklearn-color-icon: #878787;\n",
       "  }\n",
       "}\n",
       "\n",
       "#sk-container-id-1 {\n",
       "  color: var(--sklearn-color-text);\n",
       "}\n",
       "\n",
       "#sk-container-id-1 pre {\n",
       "  padding: 0;\n",
       "}\n",
       "\n",
       "#sk-container-id-1 input.sk-hidden--visually {\n",
       "  border: 0;\n",
       "  clip: rect(1px 1px 1px 1px);\n",
       "  clip: rect(1px, 1px, 1px, 1px);\n",
       "  height: 1px;\n",
       "  margin: -1px;\n",
       "  overflow: hidden;\n",
       "  padding: 0;\n",
       "  position: absolute;\n",
       "  width: 1px;\n",
       "}\n",
       "\n",
       "#sk-container-id-1 div.sk-dashed-wrapped {\n",
       "  border: 1px dashed var(--sklearn-color-line);\n",
       "  margin: 0 0.4em 0.5em 0.4em;\n",
       "  box-sizing: border-box;\n",
       "  padding-bottom: 0.4em;\n",
       "  background-color: var(--sklearn-color-background);\n",
       "}\n",
       "\n",
       "#sk-container-id-1 div.sk-container {\n",
       "  /* jupyter's `normalize.less` sets `[hidden] { display: none; }`\n",
       "     but bootstrap.min.css set `[hidden] { display: none !important; }`\n",
       "     so we also need the `!important` here to be able to override the\n",
       "     default hidden behavior on the sphinx rendered scikit-learn.org.\n",
       "     See: https://github.com/scikit-learn/scikit-learn/issues/21755 */\n",
       "  display: inline-block !important;\n",
       "  position: relative;\n",
       "}\n",
       "\n",
       "#sk-container-id-1 div.sk-text-repr-fallback {\n",
       "  display: none;\n",
       "}\n",
       "\n",
       "div.sk-parallel-item,\n",
       "div.sk-serial,\n",
       "div.sk-item {\n",
       "  /* draw centered vertical line to link estimators */\n",
       "  background-image: linear-gradient(var(--sklearn-color-text-on-default-background), var(--sklearn-color-text-on-default-background));\n",
       "  background-size: 2px 100%;\n",
       "  background-repeat: no-repeat;\n",
       "  background-position: center center;\n",
       "}\n",
       "\n",
       "/* Parallel-specific style estimator block */\n",
       "\n",
       "#sk-container-id-1 div.sk-parallel-item::after {\n",
       "  content: \"\";\n",
       "  width: 100%;\n",
       "  border-bottom: 2px solid var(--sklearn-color-text-on-default-background);\n",
       "  flex-grow: 1;\n",
       "}\n",
       "\n",
       "#sk-container-id-1 div.sk-parallel {\n",
       "  display: flex;\n",
       "  align-items: stretch;\n",
       "  justify-content: center;\n",
       "  background-color: var(--sklearn-color-background);\n",
       "  position: relative;\n",
       "}\n",
       "\n",
       "#sk-container-id-1 div.sk-parallel-item {\n",
       "  display: flex;\n",
       "  flex-direction: column;\n",
       "}\n",
       "\n",
       "#sk-container-id-1 div.sk-parallel-item:first-child::after {\n",
       "  align-self: flex-end;\n",
       "  width: 50%;\n",
       "}\n",
       "\n",
       "#sk-container-id-1 div.sk-parallel-item:last-child::after {\n",
       "  align-self: flex-start;\n",
       "  width: 50%;\n",
       "}\n",
       "\n",
       "#sk-container-id-1 div.sk-parallel-item:only-child::after {\n",
       "  width: 0;\n",
       "}\n",
       "\n",
       "/* Serial-specific style estimator block */\n",
       "\n",
       "#sk-container-id-1 div.sk-serial {\n",
       "  display: flex;\n",
       "  flex-direction: column;\n",
       "  align-items: center;\n",
       "  background-color: var(--sklearn-color-background);\n",
       "  padding-right: 1em;\n",
       "  padding-left: 1em;\n",
       "}\n",
       "\n",
       "\n",
       "/* Toggleable style: style used for estimator/Pipeline/ColumnTransformer box that is\n",
       "clickable and can be expanded/collapsed.\n",
       "- Pipeline and ColumnTransformer use this feature and define the default style\n",
       "- Estimators will overwrite some part of the style using the `sk-estimator` class\n",
       "*/\n",
       "\n",
       "/* Pipeline and ColumnTransformer style (default) */\n",
       "\n",
       "#sk-container-id-1 div.sk-toggleable {\n",
       "  /* Default theme specific background. It is overwritten whether we have a\n",
       "  specific estimator or a Pipeline/ColumnTransformer */\n",
       "  background-color: var(--sklearn-color-background);\n",
       "}\n",
       "\n",
       "/* Toggleable label */\n",
       "#sk-container-id-1 label.sk-toggleable__label {\n",
       "  cursor: pointer;\n",
       "  display: flex;\n",
       "  width: 100%;\n",
       "  margin-bottom: 0;\n",
       "  padding: 0.5em;\n",
       "  box-sizing: border-box;\n",
       "  text-align: center;\n",
       "  align-items: start;\n",
       "  justify-content: space-between;\n",
       "  gap: 0.5em;\n",
       "}\n",
       "\n",
       "#sk-container-id-1 label.sk-toggleable__label .caption {\n",
       "  font-size: 0.6rem;\n",
       "  font-weight: lighter;\n",
       "  color: var(--sklearn-color-text-muted);\n",
       "}\n",
       "\n",
       "#sk-container-id-1 label.sk-toggleable__label-arrow:before {\n",
       "  /* Arrow on the left of the label */\n",
       "  content: \"▸\";\n",
       "  float: left;\n",
       "  margin-right: 0.25em;\n",
       "  color: var(--sklearn-color-icon);\n",
       "}\n",
       "\n",
       "#sk-container-id-1 label.sk-toggleable__label-arrow:hover:before {\n",
       "  color: var(--sklearn-color-text);\n",
       "}\n",
       "\n",
       "/* Toggleable content - dropdown */\n",
       "\n",
       "#sk-container-id-1 div.sk-toggleable__content {\n",
       "  max-height: 0;\n",
       "  max-width: 0;\n",
       "  overflow: hidden;\n",
       "  text-align: left;\n",
       "  /* unfitted */\n",
       "  background-color: var(--sklearn-color-unfitted-level-0);\n",
       "}\n",
       "\n",
       "#sk-container-id-1 div.sk-toggleable__content.fitted {\n",
       "  /* fitted */\n",
       "  background-color: var(--sklearn-color-fitted-level-0);\n",
       "}\n",
       "\n",
       "#sk-container-id-1 div.sk-toggleable__content pre {\n",
       "  margin: 0.2em;\n",
       "  border-radius: 0.25em;\n",
       "  color: var(--sklearn-color-text);\n",
       "  /* unfitted */\n",
       "  background-color: var(--sklearn-color-unfitted-level-0);\n",
       "}\n",
       "\n",
       "#sk-container-id-1 div.sk-toggleable__content.fitted pre {\n",
       "  /* unfitted */\n",
       "  background-color: var(--sklearn-color-fitted-level-0);\n",
       "}\n",
       "\n",
       "#sk-container-id-1 input.sk-toggleable__control:checked~div.sk-toggleable__content {\n",
       "  /* Expand drop-down */\n",
       "  max-height: 200px;\n",
       "  max-width: 100%;\n",
       "  overflow: auto;\n",
       "}\n",
       "\n",
       "#sk-container-id-1 input.sk-toggleable__control:checked~label.sk-toggleable__label-arrow:before {\n",
       "  content: \"▾\";\n",
       "}\n",
       "\n",
       "/* Pipeline/ColumnTransformer-specific style */\n",
       "\n",
       "#sk-container-id-1 div.sk-label input.sk-toggleable__control:checked~label.sk-toggleable__label {\n",
       "  color: var(--sklearn-color-text);\n",
       "  background-color: var(--sklearn-color-unfitted-level-2);\n",
       "}\n",
       "\n",
       "#sk-container-id-1 div.sk-label.fitted input.sk-toggleable__control:checked~label.sk-toggleable__label {\n",
       "  background-color: var(--sklearn-color-fitted-level-2);\n",
       "}\n",
       "\n",
       "/* Estimator-specific style */\n",
       "\n",
       "/* Colorize estimator box */\n",
       "#sk-container-id-1 div.sk-estimator input.sk-toggleable__control:checked~label.sk-toggleable__label {\n",
       "  /* unfitted */\n",
       "  background-color: var(--sklearn-color-unfitted-level-2);\n",
       "}\n",
       "\n",
       "#sk-container-id-1 div.sk-estimator.fitted input.sk-toggleable__control:checked~label.sk-toggleable__label {\n",
       "  /* fitted */\n",
       "  background-color: var(--sklearn-color-fitted-level-2);\n",
       "}\n",
       "\n",
       "#sk-container-id-1 div.sk-label label.sk-toggleable__label,\n",
       "#sk-container-id-1 div.sk-label label {\n",
       "  /* The background is the default theme color */\n",
       "  color: var(--sklearn-color-text-on-default-background);\n",
       "}\n",
       "\n",
       "/* On hover, darken the color of the background */\n",
       "#sk-container-id-1 div.sk-label:hover label.sk-toggleable__label {\n",
       "  color: var(--sklearn-color-text);\n",
       "  background-color: var(--sklearn-color-unfitted-level-2);\n",
       "}\n",
       "\n",
       "/* Label box, darken color on hover, fitted */\n",
       "#sk-container-id-1 div.sk-label.fitted:hover label.sk-toggleable__label.fitted {\n",
       "  color: var(--sklearn-color-text);\n",
       "  background-color: var(--sklearn-color-fitted-level-2);\n",
       "}\n",
       "\n",
       "/* Estimator label */\n",
       "\n",
       "#sk-container-id-1 div.sk-label label {\n",
       "  font-family: monospace;\n",
       "  font-weight: bold;\n",
       "  display: inline-block;\n",
       "  line-height: 1.2em;\n",
       "}\n",
       "\n",
       "#sk-container-id-1 div.sk-label-container {\n",
       "  text-align: center;\n",
       "}\n",
       "\n",
       "/* Estimator-specific */\n",
       "#sk-container-id-1 div.sk-estimator {\n",
       "  font-family: monospace;\n",
       "  border: 1px dotted var(--sklearn-color-border-box);\n",
       "  border-radius: 0.25em;\n",
       "  box-sizing: border-box;\n",
       "  margin-bottom: 0.5em;\n",
       "  /* unfitted */\n",
       "  background-color: var(--sklearn-color-unfitted-level-0);\n",
       "}\n",
       "\n",
       "#sk-container-id-1 div.sk-estimator.fitted {\n",
       "  /* fitted */\n",
       "  background-color: var(--sklearn-color-fitted-level-0);\n",
       "}\n",
       "\n",
       "/* on hover */\n",
       "#sk-container-id-1 div.sk-estimator:hover {\n",
       "  /* unfitted */\n",
       "  background-color: var(--sklearn-color-unfitted-level-2);\n",
       "}\n",
       "\n",
       "#sk-container-id-1 div.sk-estimator.fitted:hover {\n",
       "  /* fitted */\n",
       "  background-color: var(--sklearn-color-fitted-level-2);\n",
       "}\n",
       "\n",
       "/* Specification for estimator info (e.g. \"i\" and \"?\") */\n",
       "\n",
       "/* Common style for \"i\" and \"?\" */\n",
       "\n",
       ".sk-estimator-doc-link,\n",
       "a:link.sk-estimator-doc-link,\n",
       "a:visited.sk-estimator-doc-link {\n",
       "  float: right;\n",
       "  font-size: smaller;\n",
       "  line-height: 1em;\n",
       "  font-family: monospace;\n",
       "  background-color: var(--sklearn-color-background);\n",
       "  border-radius: 1em;\n",
       "  height: 1em;\n",
       "  width: 1em;\n",
       "  text-decoration: none !important;\n",
       "  margin-left: 0.5em;\n",
       "  text-align: center;\n",
       "  /* unfitted */\n",
       "  border: var(--sklearn-color-unfitted-level-1) 1pt solid;\n",
       "  color: var(--sklearn-color-unfitted-level-1);\n",
       "}\n",
       "\n",
       ".sk-estimator-doc-link.fitted,\n",
       "a:link.sk-estimator-doc-link.fitted,\n",
       "a:visited.sk-estimator-doc-link.fitted {\n",
       "  /* fitted */\n",
       "  border: var(--sklearn-color-fitted-level-1) 1pt solid;\n",
       "  color: var(--sklearn-color-fitted-level-1);\n",
       "}\n",
       "\n",
       "/* On hover */\n",
       "div.sk-estimator:hover .sk-estimator-doc-link:hover,\n",
       ".sk-estimator-doc-link:hover,\n",
       "div.sk-label-container:hover .sk-estimator-doc-link:hover,\n",
       ".sk-estimator-doc-link:hover {\n",
       "  /* unfitted */\n",
       "  background-color: var(--sklearn-color-unfitted-level-3);\n",
       "  color: var(--sklearn-color-background);\n",
       "  text-decoration: none;\n",
       "}\n",
       "\n",
       "div.sk-estimator.fitted:hover .sk-estimator-doc-link.fitted:hover,\n",
       ".sk-estimator-doc-link.fitted:hover,\n",
       "div.sk-label-container:hover .sk-estimator-doc-link.fitted:hover,\n",
       ".sk-estimator-doc-link.fitted:hover {\n",
       "  /* fitted */\n",
       "  background-color: var(--sklearn-color-fitted-level-3);\n",
       "  color: var(--sklearn-color-background);\n",
       "  text-decoration: none;\n",
       "}\n",
       "\n",
       "/* Span, style for the box shown on hovering the info icon */\n",
       ".sk-estimator-doc-link span {\n",
       "  display: none;\n",
       "  z-index: 9999;\n",
       "  position: relative;\n",
       "  font-weight: normal;\n",
       "  right: .2ex;\n",
       "  padding: .5ex;\n",
       "  margin: .5ex;\n",
       "  width: min-content;\n",
       "  min-width: 20ex;\n",
       "  max-width: 50ex;\n",
       "  color: var(--sklearn-color-text);\n",
       "  box-shadow: 2pt 2pt 4pt #999;\n",
       "  /* unfitted */\n",
       "  background: var(--sklearn-color-unfitted-level-0);\n",
       "  border: .5pt solid var(--sklearn-color-unfitted-level-3);\n",
       "}\n",
       "\n",
       ".sk-estimator-doc-link.fitted span {\n",
       "  /* fitted */\n",
       "  background: var(--sklearn-color-fitted-level-0);\n",
       "  border: var(--sklearn-color-fitted-level-3);\n",
       "}\n",
       "\n",
       ".sk-estimator-doc-link:hover span {\n",
       "  display: block;\n",
       "}\n",
       "\n",
       "/* \"?\"-specific style due to the `<a>` HTML tag */\n",
       "\n",
       "#sk-container-id-1 a.estimator_doc_link {\n",
       "  float: right;\n",
       "  font-size: 1rem;\n",
       "  line-height: 1em;\n",
       "  font-family: monospace;\n",
       "  background-color: var(--sklearn-color-background);\n",
       "  border-radius: 1rem;\n",
       "  height: 1rem;\n",
       "  width: 1rem;\n",
       "  text-decoration: none;\n",
       "  /* unfitted */\n",
       "  color: var(--sklearn-color-unfitted-level-1);\n",
       "  border: var(--sklearn-color-unfitted-level-1) 1pt solid;\n",
       "}\n",
       "\n",
       "#sk-container-id-1 a.estimator_doc_link.fitted {\n",
       "  /* fitted */\n",
       "  border: var(--sklearn-color-fitted-level-1) 1pt solid;\n",
       "  color: var(--sklearn-color-fitted-level-1);\n",
       "}\n",
       "\n",
       "/* On hover */\n",
       "#sk-container-id-1 a.estimator_doc_link:hover {\n",
       "  /* unfitted */\n",
       "  background-color: var(--sklearn-color-unfitted-level-3);\n",
       "  color: var(--sklearn-color-background);\n",
       "  text-decoration: none;\n",
       "}\n",
       "\n",
       "#sk-container-id-1 a.estimator_doc_link.fitted:hover {\n",
       "  /* fitted */\n",
       "  background-color: var(--sklearn-color-fitted-level-3);\n",
       "}\n",
       "</style><div id=\"sk-container-id-1\" class=\"sk-top-container\"><div class=\"sk-text-repr-fallback\"><pre>XGBClassifier(base_score=None, booster=None, callbacks=None,\n",
       "              colsample_bylevel=None, colsample_bynode=None,\n",
       "              colsample_bytree=0.8, device=None, early_stopping_rounds=10,\n",
       "              enable_categorical=False, eval_metric=&#x27;auc&#x27;, feature_types=None,\n",
       "              feature_weights=None, gamma=None, grow_policy=None,\n",
       "              importance_type=None, interaction_constraints=None,\n",
       "              learning_rate=0.05, max_bin=None, max_cat_threshold=None,\n",
       "              max_cat_to_onehot=None, max_delta_step=None, max_depth=6,\n",
       "              max_leaves=None, min_child_weight=None, missing=nan,\n",
       "              monotone_constraints=None, multi_strategy=None, n_estimators=200,\n",
       "              n_jobs=None, num_parallel_tree=None, ...)</pre><b>In a Jupyter environment, please rerun this cell to show the HTML representation or trust the notebook. <br />On GitHub, the HTML representation is unable to render, please try loading this page with nbviewer.org.</b></div><div class=\"sk-container\" hidden><div class=\"sk-item\"><div class=\"sk-estimator fitted sk-toggleable\"><input class=\"sk-toggleable__control sk-hidden--visually\" id=\"sk-estimator-id-1\" type=\"checkbox\" checked><label for=\"sk-estimator-id-1\" class=\"sk-toggleable__label fitted sk-toggleable__label-arrow\"><div><div>XGBClassifier</div></div><div><a class=\"sk-estimator-doc-link fitted\" rel=\"noreferrer\" target=\"_blank\" href=\"https://xgboost.readthedocs.io/en/release_3.0.0/python/python_api.html#xgboost.XGBClassifier\">?<span>Documentation for XGBClassifier</span></a><span class=\"sk-estimator-doc-link fitted\">i<span>Fitted</span></span></div></label><div class=\"sk-toggleable__content fitted\"><pre>XGBClassifier(base_score=None, booster=None, callbacks=None,\n",
       "              colsample_bylevel=None, colsample_bynode=None,\n",
       "              colsample_bytree=0.8, device=None, early_stopping_rounds=10,\n",
       "              enable_categorical=False, eval_metric=&#x27;auc&#x27;, feature_types=None,\n",
       "              feature_weights=None, gamma=None, grow_policy=None,\n",
       "              importance_type=None, interaction_constraints=None,\n",
       "              learning_rate=0.05, max_bin=None, max_cat_threshold=None,\n",
       "              max_cat_to_onehot=None, max_delta_step=None, max_depth=6,\n",
       "              max_leaves=None, min_child_weight=None, missing=nan,\n",
       "              monotone_constraints=None, multi_strategy=None, n_estimators=200,\n",
       "              n_jobs=None, num_parallel_tree=None, ...)</pre></div> </div></div></div></div>"
      ],
      "text/plain": [
       "XGBClassifier(base_score=None, booster=None, callbacks=None,\n",
       "              colsample_bylevel=None, colsample_bynode=None,\n",
       "              colsample_bytree=0.8, device=None, early_stopping_rounds=10,\n",
       "              enable_categorical=False, eval_metric='auc', feature_types=None,\n",
       "              feature_weights=None, gamma=None, grow_policy=None,\n",
       "              importance_type=None, interaction_constraints=None,\n",
       "              learning_rate=0.05, max_bin=None, max_cat_threshold=None,\n",
       "              max_cat_to_onehot=None, max_delta_step=None, max_depth=6,\n",
       "              max_leaves=None, min_child_weight=None, missing=nan,\n",
       "              monotone_constraints=None, multi_strategy=None, n_estimators=200,\n",
       "              n_jobs=None, num_parallel_tree=None, ...)"
      ]
     },
     "execution_count": 32,
     "metadata": {},
     "output_type": "execute_result"
    }
   ],
   "source": [
    "model.fit(\n",
    "    X_train, y_train,\n",
    "    eval_set=[(X_train, y_train), (X_test, y_test)],\n",
    "    verbose=True\n",
    ")"
   ]
  },
  {
   "cell_type": "code",
   "execution_count": 33,
   "metadata": {
    "colab": {
     "base_uri": "https://localhost:8080/"
    },
    "id": "6AhKa4szSacw",
    "outputId": "7109c205-a428-43b5-ee04-4428e5acf318"
   },
   "outputs": [
    {
     "name": "stdout",
     "output_type": "stream",
     "text": [
      "ROC AUC: 0.6560805996964347\n",
      "              precision    recall  f1-score   support\n",
      "\n",
      "           0       0.90      0.71      0.80      1224\n",
      "           1       0.24      0.53      0.33       211\n",
      "\n",
      "    accuracy                           0.69      1435\n",
      "   macro avg       0.57      0.62      0.56      1435\n",
      "weighted avg       0.80      0.69      0.73      1435\n",
      "\n"
     ]
    }
   ],
   "source": [
    "y_pred  = model.predict(X_test)\n",
    "y_proba = model.predict_proba(X_test)[:, 1]\n",
    "\n",
    "\n",
    "print(\"ROC AUC:\", roc_auc_score(y_test, y_proba))\n",
    "print(classification_report(y_test, y_pred))"
   ]
  },
  {
   "cell_type": "code",
   "execution_count": 34,
   "metadata": {},
   "outputs": [],
   "source": [
    "roc_auc = metrics.roc_auc_score(y_test, y_proba)\n",
    "\n",
    "# Accuracy\n",
    "accuracy = metrics.accuracy_score(y_test, y_pred)\n",
    "\n",
    "# F1 Score\n",
    "f1 = metrics.f1_score(y_test, y_pred)\n",
    "\n",
    "# Recall\n",
    "recall = metrics.recall_score(y_test, y_pred)\n",
    "\n",
    "# Precision\n",
    "precision = metrics.precision_score(y_test, y_pred)"
   ]
  },
  {
   "cell_type": "code",
   "execution_count": 35,
   "metadata": {},
   "outputs": [
    {
     "data": {
      "image/png": "[encoded data removed]",
      "text/plain": [
       "<Figure size 1000x600 with 2 Axes>"
      ]
     },
     "metadata": {},
     "output_type": "display_data"
    }
   ],
   "source": [
    "df_results = X_test.copy()\n",
    "df_results['key']       = keys_test\n",
    "df_results['actual']    = y_test\n",
    "df_results['predicted'] = y_pred\n",
    "df_results['proba_1']   = y_proba\n",
    "\n",
    "import numpy as np\n",
    "import matplotlib.pyplot as plt\n",
    "from sklearn.calibration import calibration_curve\n",
    "import pandas as pd\n",
    "\n",
    "# Define the bins for the probability ranges (0-0.1, 0.1-0.2, ..., 0.9-1)\n",
    "bins = np.arange(0, 1.1, 0.1)\n",
    "\n",
    "# Calculate the calibration curve (fraction of positives in each bin)\n",
    "fraction_of_positives, mean_predicted_value = calibration_curve(df_results['actual'], df_results['proba_1'], \n",
    "                                                                n_bins=10, strategy='uniform')\n",
    "\n",
    "# Assign each probability prediction to a specific bin\n",
    "df_results['binned'] = pd.cut(df_results['proba_1'], bins=bins, include_lowest=True)\n",
    "\n",
    "# Calculate the count of predictions per bin (bar plot data)\n",
    "df_binned = df_results.groupby('binned').size().reset_index(name='count')\n",
    "\n",
    "# Plotting the results\n",
    "fig, ax1 = plt.subplots(figsize=(10, 6))\n",
    "\n",
    "# Bar plot for number of restaurants per probability bucket on primary y-axis\n",
    "ax1.bar(df_binned['binned'].astype(str), df_binned['count'], alpha=0.6, label='Number of restaurants in each bucket')\n",
    "ax1.set_xlabel('Probability Buckets', fontsize=12)\n",
    "ax1.set_ylabel('Number of Restaurants', fontsize=12)\n",
    "\n",
    "# Create a secondary y-axis\n",
    "ax2 = ax1.twinx()\n",
    "\n",
    "# Group by the bins and calculate the fraction of positives\n",
    "agg_df = df_results.groupby('binned').agg(\n",
    "    actual_sum=('actual', 'sum'),  # Sum of actual values (count of 1's)\n",
    "    actual_count=('actual', 'count')  # Count of total observations in the bucket\n",
    ").reset_index()\n",
    "\n",
    "agg_df['ratio'] = agg_df.actual_sum / agg_df.actual_count  # Proportion of positives\n",
    "agg_df['perfect'] = [0, 0.1, 0.2, 0.3, 0.4, 0.5, 0.6, 0.7, 0.8, 0.9]\n",
    "\n",
    "# Plot the calibration curve (fraction of positives) on secondary y-axis\n",
    "ax2.plot(agg_df['binned'].astype(str), agg_df['ratio'], marker='o', linestyle='-', color='r', label='Actual Calibration curve')\n",
    "ax2.set_ylabel('Proportion with Infestation Finding', fontsize=12)\n",
    "\n",
    "ax2.plot(agg_df['binned'].astype(str), agg_df['perfect'], linestyle='-', color='black', label='Perfect Calibration curve')\n",
    "# Legends for both axes\n",
    "ax1.legend(loc='upper left')\n",
    "ax2.legend(loc='upper right')\n",
    "\n",
    "# Rotate x-axis labels for better readability\n",
    "plt.xticks(rotation=45)\n",
    "plt.tight_layout()\n",
    "plt.show()\n"
   ]
  },
  {
   "cell_type": "code",
   "execution_count": 36,
   "metadata": {},
   "outputs": [
    {
     "name": "stdout",
     "output_type": "stream",
     "text": [
      "Slope of the ratio column: 0.031637291695548034\n"
     ]
    }
   ],
   "source": [
    "agg_df.dropna(inplace = True)\n",
    "\n",
    "x = np.arange(len(agg_df))  # Create an array of indices\n",
    "y = agg_df['ratio'].values  # The 'ratio' column values\n",
    "\n",
    "# Perform linear regression to find the slope\n",
    "slope, intercept = np.polyfit(x, y, 1)  # 1 indicates linear fit\n",
    "\n",
    "print(f\"Slope of the ratio column: {slope}\")"
   ]
  },
  {
   "cell_type": "code",
   "execution_count": 38,
   "metadata": {},
   "outputs": [
    {
     "name": "stderr",
     "output_type": "stream",
     "text": [
      "\u001b[31m2025/04/26 00:22:59 WARNING mlflow.models.model: Model logged without a signature and input example. Please set `input_example` parameter when logging the model to auto infer the model signature.\u001b[0m\n"
     ]
    },
    {
     "name": "stdout",
     "output_type": "stream",
     "text": [
      "🏃 View run adventurous-koi-623 at: http://129.114.27.175:8000/#/experiments/1/runs/d1650cb1107f42799de30e7d22fa8986\n",
      "🧪 View experiment at: http://129.114.27.175:8000/#/experiments/1\n"
     ]
    }
   ],
   "source": [
    "with mlflow.start_run():\n",
    "    mlflow.log_param('eval_metric', 'auc')\n",
    "    mlflow.log_param('scale_pos_weight', scale_pos_weight)\n",
    "    mlflow.log_param('n_estimators', n_estimators)\n",
    "    mlflow.log_param('learning_rate', learning_rate)\n",
    "    mlflow.log_param('max_depth', max_depth)\n",
    "    mlflow.log_param('subsample', subsample)\n",
    "    mlflow.log_param('colsample_bytree', colsample_bytree)\n",
    "    mlflow.log_param('early_stopping_rounds', early_stopping_rounds)\n",
    "    mlflow.log_param('model_type', 'XGBoost')\n",
    "\n",
    "\n",
    "    mlflow.log_metric('ROC AUC', roc_auc)\n",
    "    mlflow.log_metric('accuracy', accuracy)\n",
    "    mlflow.log_metric('f1', f1)\n",
    "    mlflow.log_metric('recall', recall)\n",
    "    mlflow.log_metric('precision', precision)\n",
    "    mlflow.log_metric('Calibration slope', slope)\n",
    "\n",
    "    mlflow.sklearn.log_model(model, 'model')"
   ]
  },
  {
   "cell_type": "code",
   "execution_count": 39,
   "metadata": {},
   "outputs": [
    {
     "data": {
      "text/plain": [
       "['xgb_model.joblib']"
      ]
     },
     "execution_count": 39,
     "metadata": {},
     "output_type": "execute_result"
    }
   ],
   "source": [
    "import joblib\n",
    "\n",
    "# 1) After training your model (brf), dump it to a file:\n",
    "joblib.dump(model, 'xgb_model.joblib')"
   ]
  },
  {
   "cell_type": "markdown",
   "metadata": {
    "id": "LRcTpvkOSiy3"
   },
   "source": [
    "***Balnaced RF***"
   ]
  },
  {
   "cell_type": "code",
   "execution_count": 40,
   "metadata": {},
   "outputs": [],
   "source": [
    "n_estimators = 100\n",
    "max_depth = 6\n",
    "sampling_strategy = 'auto'\n",
    "n_jobs = -1"
   ]
  },
  {
   "cell_type": "code",
   "execution_count": 41,
   "metadata": {
    "colab": {
     "base_uri": "https://localhost:8080/"
    },
    "id": "4aZNj6CWSdSy",
    "outputId": "142df1b4-95fc-4235-e37d-417ae0f96490"
   },
   "outputs": [
    {
     "name": "stdout",
     "output_type": "stream",
     "text": [
      "ROC AUC: 0.6606302078493325\n",
      "\n",
      "Classification Report:\n",
      "               precision    recall  f1-score   support\n",
      "\n",
      "           0       0.90      0.61      0.73      1224\n",
      "           1       0.22      0.62      0.32       211\n",
      "\n",
      "    accuracy                           0.61      1435\n",
      "   macro avg       0.56      0.62      0.53      1435\n",
      "weighted avg       0.80      0.61      0.67      1435\n",
      "\n"
     ]
    }
   ],
   "source": [
    "from imblearn.ensemble import BalancedRandomForestClassifier\n",
    "from sklearn.model_selection import train_test_split\n",
    "from sklearn.metrics import classification_report, confusion_matrix, roc_auc_score\n",
    "\n",
    "brf = BalancedRandomForestClassifier(\n",
    "    n_estimators=n_estimators,\n",
    "    max_depth=max_depth,\n",
    "    sampling_strategy=sampling_strategy,\n",
    "    random_state=42,\n",
    "    n_jobs=n_jobs\n",
    ")\n",
    "\n",
    "\n",
    "brf.fit(X_train, y_train)\n",
    "\n",
    "y_pred  = brf.predict(X_test)\n",
    "y_proba = brf.predict_proba(X_test)[:, 1]\n",
    "\n",
    "print(\"ROC AUC:\", roc_auc_score(y_test, y_proba))\n",
    "print(\"\\nClassification Report:\\n\", classification_report(y_test, y_pred))\n"
   ]
  },
  {
   "cell_type": "code",
   "execution_count": 42,
   "metadata": {},
   "outputs": [],
   "source": [
    "roc_auc = metrics.roc_auc_score(y_test, y_proba)\n",
    "\n",
    "# Accuracy\n",
    "accuracy = metrics.accuracy_score(y_test, y_pred)\n",
    "\n",
    "# F1 Score\n",
    "f1 = metrics.f1_score(y_test, y_pred)\n",
    "\n",
    "# Recall\n",
    "recall = metrics.recall_score(y_test, y_pred)\n",
    "\n",
    "# Precision\n",
    "precision = metrics.precision_score(y_test, y_pred)"
   ]
  },
  {
   "cell_type": "code",
   "execution_count": 43,
   "metadata": {},
   "outputs": [
    {
     "data": {
      "image/png": "[encoded data removed]",
      "text/plain": [
       "<Figure size 1000x600 with 2 Axes>"
      ]
     },
     "metadata": {},
     "output_type": "display_data"
    }
   ],
   "source": [
    "import numpy as np\n",
    "import matplotlib.pyplot as plt\n",
    "from sklearn.calibration import calibration_curve\n",
    "import pandas as pd\n",
    "\n",
    "# Define the bins for the probability ranges (0-0.1, 0.1-0.2, ..., 0.9-1)\n",
    "bins = np.arange(0, 1.1, 0.1)\n",
    "\n",
    "# Calculate the calibration curve (fraction of positives in each bin)\n",
    "fraction_of_positives, mean_predicted_value = calibration_curve(df_results['actual'], df_results['proba_1'], \n",
    "                                                                n_bins=10, strategy='uniform')\n",
    "\n",
    "# Assign each probability prediction to a specific bin\n",
    "df_results['binned'] = pd.cut(df_results['proba_1'], bins=bins, include_lowest=True)\n",
    "\n",
    "# Calculate the count of predictions per bin (bar plot data)\n",
    "df_binned = df_results.groupby('binned').size().reset_index(name='count')\n",
    "\n",
    "# Plotting the results\n",
    "fig, ax1 = plt.subplots(figsize=(10, 6))\n",
    "\n",
    "# Bar plot for number of restaurants per probability bucket on primary y-axis\n",
    "ax1.bar(df_binned['binned'].astype(str), df_binned['count'], alpha=0.6, label='Number of restaurants in each bucket')\n",
    "ax1.set_xlabel('Probability Buckets', fontsize=12)\n",
    "ax1.set_ylabel('Number of Restaurants', fontsize=12)\n",
    "\n",
    "# Create a secondary y-axis\n",
    "ax2 = ax1.twinx()\n",
    "\n",
    "# Group by the bins and calculate the fraction of positives\n",
    "agg_df = df_results.groupby('binned').agg(\n",
    "    actual_sum=('actual', 'sum'),  # Sum of actual values (count of 1's)\n",
    "    actual_count=('actual', 'count')  # Count of total observations in the bucket\n",
    ").reset_index()\n",
    "\n",
    "agg_df['ratio'] = agg_df.actual_sum / agg_df.actual_count  # Proportion of positives\n",
    "agg_df['perfect'] = [0, 0.1, 0.2, 0.3, 0.4, 0.5, 0.6, 0.7, 0.8, 0.9]\n",
    "\n",
    "# Plot the calibration curve (fraction of positives) on secondary y-axis\n",
    "ax2.plot(agg_df['binned'].astype(str), agg_df['ratio'], marker='o', linestyle='-', color='r', label='Actual Calibration curve')\n",
    "ax2.set_ylabel('Proportion with Infestation Finding', fontsize=12)\n",
    "\n",
    "ax2.plot(agg_df['binned'].astype(str), agg_df['perfect'], linestyle='-', color='black', label='Perfect Calibration curve')\n",
    "# Legends for both axes\n",
    "ax1.legend(loc='upper left')\n",
    "ax2.legend(loc='upper right')\n",
    "\n",
    "# Rotate x-axis labels for better readability\n",
    "plt.xticks(rotation=45)\n",
    "plt.tight_layout()\n",
    "plt.show()"
   ]
  },
  {
   "cell_type": "code",
   "execution_count": 44,
   "metadata": {},
   "outputs": [
    {
     "name": "stdout",
     "output_type": "stream",
     "text": [
      "Slope of the ratio column: 0.031637291695548034\n"
     ]
    }
   ],
   "source": [
    "agg_df.dropna(inplace = True)\n",
    "\n",
    "x = np.arange(len(agg_df))  # Create an array of indices\n",
    "y = agg_df['ratio'].values  # The 'ratio' column values\n",
    "\n",
    "# Perform linear regression to find the slope\n",
    "slope, intercept = np.polyfit(x, y, 1)  # 1 indicates linear fit\n",
    "\n",
    "print(f\"Slope of the ratio column: {slope}\")"
   ]
  },
  {
   "cell_type": "code",
   "execution_count": 47,
   "metadata": {},
   "outputs": [
    {
     "name": "stderr",
     "output_type": "stream",
     "text": [
      "\u001b[31m2025/04/26 00:25:02 WARNING mlflow.models.model: Model logged without a signature and input example. Please set `input_example` parameter when logging the model to auto infer the model signature.\u001b[0m\n"
     ]
    },
    {
     "name": "stdout",
     "output_type": "stream",
     "text": [
      "🏃 View run dapper-croc-267 at: http://129.114.27.175:8000/#/experiments/1/runs/3e2ceca7ba554163817016317bd417ba\n",
      "🧪 View experiment at: http://129.114.27.175:8000/#/experiments/1\n"
     ]
    }
   ],
   "source": [
    "with mlflow.start_run():\n",
    "    mlflow.log_param('n_estimators', n_estimators)\n",
    "    mlflow.log_param('max_depth', max_depth)\n",
    "    mlflow.log_param('sampling_strategy', sampling_strategy)\n",
    "    mlflow.log_param('n_jobs', n_jobs)\n",
    "    mlflow.log_param('model_type', 'Balanced RF')\n",
    "\n",
    "\n",
    "    mlflow.log_metric('ROC AUC', roc_auc)\n",
    "    mlflow.log_metric('accuracy', accuracy)\n",
    "    mlflow.log_metric('f1', f1)\n",
    "    mlflow.log_metric('recall', recall)\n",
    "    mlflow.log_metric('precision', precision)\n",
    "    mlflow.log_metric('Calibration slope', slope)\n",
    "\n",
    "    mlflow.sklearn.log_model(brf, 'model')"
   ]
  },
  {
   "cell_type": "code",
   "execution_count": 48,
   "metadata": {},
   "outputs": [
    {
     "data": {
      "text/plain": [
       "['brf_model.joblib']"
      ]
     },
     "execution_count": 48,
     "metadata": {},
     "output_type": "execute_result"
    }
   ],
   "source": [
    "import joblib\n",
    "\n",
    "# 1) After training your model (brf), dump it to a file:\n",
    "joblib.dump(brf, 'brf_model.joblib')"
   ]
  }
 ],
 "metadata": {
  "colab": {
   "provenance": []
  },
  "kernelspec": {
   "display_name": "Python 3 (ipykernel)",
   "language": "python",
   "name": "python3"
  },
  "language_info": {
   "codemirror_mode": {
    "name": "ipython",
    "version": 3
   },
   "file_extension": ".py",
   "mimetype": "text/x-python",
   "name": "python",
   "nbconvert_exporter": "python",
   "pygments_lexer": "ipython3",
   "version": "3.12.8"
  }
 },
 "nbformat": 4,
 "nbformat_minor": 4
}
